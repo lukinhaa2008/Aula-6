{
  "nbformat": 4,
  "nbformat_minor": 0,
  "metadata": {
    "colab": {
      "provenance": []
    },
    "kernelspec": {
      "name": "python3",
      "display_name": "Python 3"
    },
    "language_info": {
      "name": "python"
    }
  },
  "cells": [
    {
      "cell_type": "markdown",
      "source": [
        "# Estruturas de dados 2\n",
        "\n",
        "https://docs.python.org/pt-br/3/tutorial/datastructures.html#tuples-and-sequences"
      ],
      "metadata": {
        "id": "YN1JIh4ANT7S"
      }
    },
    {
      "cell_type": "markdown",
      "source": [
        "## Tuplas"
      ],
      "metadata": {
        "id": "y1UpAzm-Kkpb"
      }
    },
    {
      "cell_type": "markdown",
      "source": [
        "Tuplas são coleções ordenadas e imutáveis. Permitem armazenar múltiplos itens em uma única variável. Tuplas são definidas usando parênteses ().\n"
      ],
      "metadata": {
        "id": "HXRWnuoEfqdo"
      }
    },
    {
      "cell_type": "markdown",
      "source": [
        "###Criar"
      ],
      "metadata": {
        "id": "EuiAmgE8frhA"
      }
    },
    {
      "cell_type": "code",
      "source": [
        "tupla1 = (1, 2, 3)"
      ],
      "metadata": {
        "id": "jsWsqqmOglGN"
      },
      "execution_count": null,
      "outputs": []
    },
    {
      "cell_type": "code",
      "source": [
        "tupla2 = (\"a\", \"b\", \"c\")"
      ],
      "metadata": {
        "id": "5UMmgp0Ql3HA"
      },
      "execution_count": null,
      "outputs": []
    },
    {
      "cell_type": "code",
      "source": [
        "tupla_vazia = ()"
      ],
      "metadata": {
        "id": "UG1x5Ce9l2_q"
      },
      "execution_count": null,
      "outputs": []
    },
    {
      "cell_type": "code",
      "source": [
        "tupla_mista = (1, \"a\", True)"
      ],
      "metadata": {
        "id": "P6DY1_dUl24G"
      },
      "execution_count": null,
      "outputs": []
    },
    {
      "cell_type": "markdown",
      "source": [
        "###Acessar"
      ],
      "metadata": {
        "id": "J9YDeGCEgvTr"
      }
    },
    {
      "cell_type": "code",
      "source": [
        "tupla = (10, 20, 30, 40, 50)"
      ],
      "metadata": {
        "id": "NOpZI6Z7gsEf"
      },
      "execution_count": null,
      "outputs": []
    },
    {
      "cell_type": "code",
      "source": [
        "primeiro_elemento = tupla[0]"
      ],
      "metadata": {
        "id": "-48raH9dl-vh"
      },
      "execution_count": null,
      "outputs": []
    },
    {
      "cell_type": "code",
      "source": [
        "ultimo_elemento = tupla[-1]"
      ],
      "metadata": {
        "id": "9e856uaLl-sH"
      },
      "execution_count": null,
      "outputs": []
    },
    {
      "cell_type": "code",
      "source": [
        "segundo_elemento = tupla[1]"
      ],
      "metadata": {
        "id": "7uO7nb5Kl-n3"
      },
      "execution_count": null,
      "outputs": []
    },
    {
      "cell_type": "markdown",
      "source": [
        "###Imutabilidade"
      ],
      "metadata": {
        "id": "sqKn3PhqfvTM"
      }
    },
    {
      "cell_type": "code",
      "source": [
        "tupla = (1, 2, 3)\n",
        "tupla[0] = 10  # Isso gera um erro porque tuplas são imutáveis\n"
      ],
      "metadata": {
        "id": "5y8T1qw0KoHn"
      },
      "execution_count": null,
      "outputs": []
    },
    {
      "cell_type": "markdown",
      "source": [
        "###Desempacotamento de Tuplas"
      ],
      "metadata": {
        "id": "D7UoKWIrhDY7"
      }
    },
    {
      "cell_type": "code",
      "source": [
        "tupla = (1, 2, 3)\n",
        "a, b, c = tupla\n"
      ],
      "metadata": {
        "id": "T1N_viuohBiE"
      },
      "execution_count": null,
      "outputs": []
    },
    {
      "cell_type": "code",
      "source": [
        "a"
      ],
      "metadata": {
        "id": "zBqXBNjpmcXX",
        "colab": {
          "base_uri": "https://localhost:8080/"
        },
        "outputId": "909bfdc6-a45d-4d46-a61c-d41e0162ddcf"
      },
      "execution_count": null,
      "outputs": [
        {
          "output_type": "execute_result",
          "data": {
            "text/plain": [
              "1"
            ]
          },
          "metadata": {},
          "execution_count": 10
        }
      ]
    },
    {
      "cell_type": "code",
      "source": [
        "b"
      ],
      "metadata": {
        "id": "23QbBUECmeYP",
        "colab": {
          "base_uri": "https://localhost:8080/"
        },
        "outputId": "e9b83c8e-d24e-4ed3-bee8-ab2d8503b937"
      },
      "execution_count": null,
      "outputs": [
        {
          "output_type": "execute_result",
          "data": {
            "text/plain": [
              "2"
            ]
          },
          "metadata": {},
          "execution_count": 11
        }
      ]
    },
    {
      "cell_type": "markdown",
      "source": [
        "###Operações"
      ],
      "metadata": {
        "id": "XmCummbSf1Xc"
      }
    },
    {
      "cell_type": "code",
      "source": [
        "tupla1 = (1, 2, 3)\n",
        "tupla2 = (4, 5, 6)"
      ],
      "metadata": {
        "id": "-IsWcSZThKer"
      },
      "execution_count": null,
      "outputs": []
    },
    {
      "cell_type": "markdown",
      "source": [
        "Concatenação"
      ],
      "metadata": {
        "id": "ooJpsWE6m43S"
      }
    },
    {
      "cell_type": "code",
      "source": [
        "tupla3 = tupla1 + tupla2  # (1, 2, 3, 4, 5, 6)\n",
        "tupla3"
      ],
      "metadata": {
        "id": "sF8E9zChhMTt",
        "colab": {
          "base_uri": "https://localhost:8080/"
        },
        "outputId": "1688d161-345e-4414-99be-abcd8e7174c5"
      },
      "execution_count": null,
      "outputs": [
        {
          "output_type": "execute_result",
          "data": {
            "text/plain": [
              "(1, 2, 3, 4, 5, 6)"
            ]
          },
          "metadata": {},
          "execution_count": 13
        }
      ]
    },
    {
      "cell_type": "markdown",
      "source": [
        "Repetição"
      ],
      "metadata": {
        "id": "Zy_RiYbtm9-h"
      }
    },
    {
      "cell_type": "code",
      "source": [
        "tupla4 = tupla1 * 2  # (1, 2, 3, 1, 2, 3)\n",
        "tupla4"
      ],
      "metadata": {
        "id": "sKRnpZlrhOXP",
        "colab": {
          "base_uri": "https://localhost:8080/"
        },
        "outputId": "b8088e35-a95f-4aed-9c4f-1d93b5c4176d"
      },
      "execution_count": null,
      "outputs": [
        {
          "output_type": "execute_result",
          "data": {
            "text/plain": [
              "(1, 2, 3, 1, 2, 3)"
            ]
          },
          "metadata": {},
          "execution_count": 14
        }
      ]
    },
    {
      "cell_type": "markdown",
      "source": [
        "Verificação de pertencimento"
      ],
      "metadata": {
        "id": "ofeveDhxnI4I"
      }
    },
    {
      "cell_type": "code",
      "source": [
        "2 in tupla1  # True\n",
        "\n"
      ],
      "metadata": {
        "id": "KjZjIQMLhQW9",
        "colab": {
          "base_uri": "https://localhost:8080/"
        },
        "outputId": "fa60fc94-8ba3-463e-b31e-e9c0bc9a947e"
      },
      "execution_count": null,
      "outputs": [
        {
          "output_type": "execute_result",
          "data": {
            "text/plain": [
              "True"
            ]
          },
          "metadata": {},
          "execution_count": 15
        }
      ]
    },
    {
      "cell_type": "code",
      "source": [
        "4 in tupla1  # False"
      ],
      "metadata": {
        "id": "6VtEQW_VnOmO",
        "colab": {
          "base_uri": "https://localhost:8080/"
        },
        "outputId": "e1e1213b-96aa-4593-ad8e-881048d3ffe7"
      },
      "execution_count": null,
      "outputs": [
        {
          "output_type": "execute_result",
          "data": {
            "text/plain": [
              "False"
            ]
          },
          "metadata": {},
          "execution_count": 16
        }
      ]
    },
    {
      "cell_type": "markdown",
      "source": [
        "###Funções em Tuplas"
      ],
      "metadata": {
        "id": "2OtDjnbzhbFt"
      }
    },
    {
      "cell_type": "code",
      "source": [
        "tupla = (1, 2, 3, 2, 4, 2)"
      ],
      "metadata": {
        "id": "hF16IGUKnZS4"
      },
      "execution_count": null,
      "outputs": []
    },
    {
      "cell_type": "markdown",
      "source": [
        "Contagem"
      ],
      "metadata": {
        "id": "fkbJNDYTnd5_"
      }
    },
    {
      "cell_type": "code",
      "source": [
        "# Contar a ocorrência de um valor\n",
        "tupla.count(2)"
      ],
      "metadata": {
        "id": "emk65G_snaqi",
        "colab": {
          "base_uri": "https://localhost:8080/"
        },
        "outputId": "63562439-d61c-45df-eac6-c739d9585847"
      },
      "execution_count": null,
      "outputs": [
        {
          "output_type": "execute_result",
          "data": {
            "text/plain": [
              "3"
            ]
          },
          "metadata": {},
          "execution_count": 18
        }
      ]
    },
    {
      "cell_type": "markdown",
      "source": [
        "Encontrar índice"
      ],
      "metadata": {
        "id": "jxYOV0pznk09"
      }
    },
    {
      "cell_type": "code",
      "source": [
        "# Encontrar o índice de um valor\n",
        "tupla.index(3)  # 2\n"
      ],
      "metadata": {
        "id": "dAL3PJtQhcgI",
        "colab": {
          "base_uri": "https://localhost:8080/"
        },
        "outputId": "b93c30ae-7ba3-46bf-b7f9-28a8c88757d0"
      },
      "execution_count": null,
      "outputs": [
        {
          "output_type": "execute_result",
          "data": {
            "text/plain": [
              "2"
            ]
          },
          "metadata": {},
          "execution_count": 19
        }
      ]
    },
    {
      "cell_type": "markdown",
      "source": [
        "###Exemplos"
      ],
      "metadata": {
        "id": "GuOz6goNhgsU"
      }
    },
    {
      "cell_type": "markdown",
      "source": [
        "Criação e Acesso"
      ],
      "metadata": {
        "id": "I6dbyov4iDVM"
      }
    },
    {
      "cell_type": "code",
      "source": [
        "tupla_exemplo = (\"python\", 3, 7.5, \"code\")\n",
        "\n",
        "\n",
        "print(tupla_exemplo)\n",
        "print(tupla_exemplo[1])\n",
        "print(tupla_exemplo[-1])\n"
      ],
      "metadata": {
        "id": "ftZySAmNhpMS",
        "colab": {
          "base_uri": "https://localhost:8080/"
        },
        "outputId": "6d07048e-adba-4c3f-a16f-936f4e54bde6"
      },
      "execution_count": null,
      "outputs": [
        {
          "output_type": "stream",
          "name": "stdout",
          "text": [
            "('python', 3, 7.5, 'code')\n",
            "3\n",
            "code\n"
          ]
        }
      ]
    },
    {
      "cell_type": "markdown",
      "source": [
        "Desempacotamento"
      ],
      "metadata": {
        "id": "DKxlvJVgiBeR"
      }
    },
    {
      "cell_type": "code",
      "source": [
        "dados = (\"Maria\", 28, \"Engenheira\")\n",
        "\n",
        "nome, idade, profissao = dados\n",
        "\n",
        "print(nome)\n",
        "print(idade)\n",
        "print(profissao)\n"
      ],
      "metadata": {
        "id": "vBnIHTluh1Bk",
        "colab": {
          "base_uri": "https://localhost:8080/"
        },
        "outputId": "9b91c687-2366-45af-fa61-b9d5fc63cd57"
      },
      "execution_count": null,
      "outputs": [
        {
          "output_type": "stream",
          "name": "stdout",
          "text": [
            "Maria\n",
            "28\n",
            "Engenheira\n"
          ]
        }
      ]
    },
    {
      "cell_type": "markdown",
      "source": [
        "Operações com Tuplas"
      ],
      "metadata": {
        "id": "BMfkkfDxh_tE"
      }
    },
    {
      "cell_type": "code",
      "source": [
        "tupla1 = (1, 2, 3)\n",
        "tupla2 = (4, 5, 6)\n",
        "\n",
        "resultado_concatenacao = tupla1 + tupla2\n",
        "print(resultado_concatenacao)\n",
        "\n",
        "resultado_repeticao = tupla1 * 2\n",
        "print(resultado_repeticao)\n",
        "\n",
        "verificacao = 2 in tupla1\n",
        "print(verificacao)\n"
      ],
      "metadata": {
        "id": "WnVB2WPVhwLK",
        "colab": {
          "base_uri": "https://localhost:8080/"
        },
        "outputId": "20ac5023-b78e-481f-d4ba-d395e6b3da58"
      },
      "execution_count": null,
      "outputs": [
        {
          "output_type": "stream",
          "name": "stdout",
          "text": [
            "(1, 2, 3, 4, 5, 6)\n",
            "(1, 2, 3, 1, 2, 3)\n",
            "True\n"
          ]
        }
      ]
    },
    {
      "cell_type": "markdown",
      "source": [
        "Métodos count e index"
      ],
      "metadata": {
        "id": "D66jK1S7h85I"
      }
    },
    {
      "cell_type": "code",
      "source": [
        "tupla_exemplo = (1, 2, 3, 2, 4, 2)\n",
        "\n",
        "contagem = tupla_exemplo.count(2)\n",
        "print(contagem)\n",
        "\n",
        "indice = tupla_exemplo.index(3)\n",
        "print(indice)\n"
      ],
      "metadata": {
        "id": "umJn-w1Ph5ct",
        "colab": {
          "base_uri": "https://localhost:8080/"
        },
        "outputId": "85d33546-7590-48ba-a3f3-d5b06502b756"
      },
      "execution_count": null,
      "outputs": [
        {
          "output_type": "stream",
          "name": "stdout",
          "text": [
            "3\n",
            "2\n"
          ]
        }
      ]
    },
    {
      "cell_type": "markdown",
      "source": [
        "##Dicionários"
      ],
      "metadata": {
        "id": "74elGdgzVdce"
      }
    },
    {
      "cell_type": "markdown",
      "source": [
        "###Criação de Dicionários"
      ],
      "metadata": {
        "id": "xGD0LXnUpJEG"
      }
    },
    {
      "cell_type": "code",
      "source": [
        "# Criando um dicionário vazio\n",
        "dicionario_vazio = {}"
      ],
      "metadata": {
        "id": "QvueVXIBprk0"
      },
      "execution_count": null,
      "outputs": []
    },
    {
      "cell_type": "code",
      "source": [
        "# Criando um dicionário com alguns pares chave-valor\n",
        "pessoa = {\n",
        "    \"nome\": \"Guilherme\",\n",
        "    \"idade\": 32,\n",
        "    \"cidade\": \"Santo André\"\n",
        "}\n"
      ],
      "metadata": {
        "id": "JYTe5rimpaWi"
      },
      "execution_count": null,
      "outputs": []
    },
    {
      "cell_type": "markdown",
      "source": [
        "###Acessando Valores\n"
      ],
      "metadata": {
        "id": "Vozvr-A_pKMJ"
      }
    },
    {
      "cell_type": "code",
      "source": [
        "print(pessoa[\"nome\"])\n",
        "print(pessoa[\"idade\"])"
      ],
      "metadata": {
        "id": "DlnHPxS2p8hf",
        "colab": {
          "base_uri": "https://localhost:8080/"
        },
        "outputId": "a3e0d0fc-bef3-4c4e-9091-a7c9028a3434"
      },
      "execution_count": null,
      "outputs": [
        {
          "output_type": "stream",
          "name": "stdout",
          "text": [
            "Guilherme\n",
            "32\n"
          ]
        }
      ]
    },
    {
      "cell_type": "markdown",
      "source": [
        "###Modificando Valores"
      ],
      "metadata": {
        "id": "VouBgZ1Xp7by"
      }
    },
    {
      "cell_type": "code",
      "source": [
        "pessoa[\"idade\"] = 26\n",
        "print(pessoa[\"idade\"])\n"
      ],
      "metadata": {
        "id": "lMJvfW6opaUL",
        "colab": {
          "base_uri": "https://localhost:8080/"
        },
        "outputId": "dec3b410-d201-45a3-94a2-238204aa507e"
      },
      "execution_count": null,
      "outputs": [
        {
          "output_type": "stream",
          "name": "stdout",
          "text": [
            "26\n"
          ]
        }
      ]
    },
    {
      "cell_type": "markdown",
      "source": [
        "###Adicionando e Removendo Itens"
      ],
      "metadata": {
        "id": "ZzPCet98pPlN"
      }
    },
    {
      "cell_type": "code",
      "source": [
        "# Adicionando um novo par chave-valor\n",
        "pessoa[\"profissao\"] = \"Instrutor\"\n",
        "print(pessoa)"
      ],
      "metadata": {
        "id": "MfxuL9aGpaRf",
        "colab": {
          "base_uri": "https://localhost:8080/"
        },
        "outputId": "caa0d98d-3537-4485-8a04-858992a3fcaa"
      },
      "execution_count": null,
      "outputs": [
        {
          "output_type": "stream",
          "name": "stdout",
          "text": [
            "{'nome': 'Guilherme', 'idade': 26, 'cidade': 'Santo André', 'profissao': 'Instrutor'}\n"
          ]
        }
      ]
    },
    {
      "cell_type": "code",
      "source": [
        "# Removendo um par chave-valor\n",
        "del pessoa[\"cidade\"]\n",
        "print(pessoa)"
      ],
      "metadata": {
        "id": "Sibdk36upaGA",
        "colab": {
          "base_uri": "https://localhost:8080/"
        },
        "outputId": "d59ef37a-1604-4899-fe39-001631d8ca9a"
      },
      "execution_count": null,
      "outputs": [
        {
          "output_type": "stream",
          "name": "stdout",
          "text": [
            "{'nome': 'Guilherme', 'idade': 26, 'profissao': 'Instrutor'}\n"
          ]
        }
      ]
    },
    {
      "cell_type": "markdown",
      "source": [
        "###Percorrendo Dicionários"
      ],
      "metadata": {
        "id": "tLEPdf1GpRLw"
      }
    },
    {
      "cell_type": "code",
      "source": [
        "# Percorrendo chaves\n",
        "for chave in pessoa:\n",
        "    print(chave)"
      ],
      "metadata": {
        "id": "QLpVzTcvjUB3",
        "colab": {
          "base_uri": "https://localhost:8080/"
        },
        "outputId": "d2dcc6bf-39a7-40f2-b015-372228992893"
      },
      "execution_count": null,
      "outputs": [
        {
          "output_type": "stream",
          "name": "stdout",
          "text": [
            "nome\n",
            "idade\n",
            "profissao\n"
          ]
        }
      ]
    },
    {
      "cell_type": "code",
      "source": [
        "# Percorrendo valores\n",
        "for valor in pessoa.values():\n",
        "    print(valor)"
      ],
      "metadata": {
        "id": "JixEMiASqiRu",
        "colab": {
          "base_uri": "https://localhost:8080/"
        },
        "outputId": "d8eb0628-88a5-4a3e-ee18-79ede252eebe"
      },
      "execution_count": null,
      "outputs": [
        {
          "output_type": "stream",
          "name": "stdout",
          "text": [
            "Guilherme\n",
            "26\n",
            "Instrutor\n"
          ]
        }
      ]
    },
    {
      "cell_type": "code",
      "source": [
        "# Percorrendo pares chave-valor\n",
        "for chave, valor in pessoa.items():\n",
        "    print(f\"{chave}: {valor}\")"
      ],
      "metadata": {
        "id": "DfwRrbRrqiHU",
        "colab": {
          "base_uri": "https://localhost:8080/"
        },
        "outputId": "4148a525-5c91-4ab7-cda7-33545c2e0990"
      },
      "execution_count": null,
      "outputs": [
        {
          "output_type": "stream",
          "name": "stdout",
          "text": [
            "nome: Guilherme\n",
            "idade: 26\n",
            "profissao: Instrutor\n"
          ]
        }
      ]
    },
    {
      "cell_type": "markdown",
      "source": [
        "###Funções"
      ],
      "metadata": {
        "id": "TkuaQL-mpTTW"
      }
    },
    {
      "cell_type": "code",
      "source": [
        "# Método get\n",
        "idade = pessoa.get(\"idade\")\n",
        "print(idade)"
      ],
      "metadata": {
        "id": "DN23nRn_q4vU",
        "colab": {
          "base_uri": "https://localhost:8080/"
        },
        "outputId": "9cab50d6-f44f-4528-9852-55dc7bcb32dd"
      },
      "execution_count": null,
      "outputs": [
        {
          "output_type": "stream",
          "name": "stdout",
          "text": [
            "27\n"
          ]
        }
      ]
    },
    {
      "cell_type": "code",
      "source": [
        "# Método update\n",
        "pessoa.update({\"cidade\": \"São Paulo\", \"idade\": 27})\n",
        "print(pessoa)"
      ],
      "metadata": {
        "id": "9Cbozgjyq-9y",
        "colab": {
          "base_uri": "https://localhost:8080/"
        },
        "outputId": "e7fa3373-826f-4c89-9cfc-152bb2ce35d6"
      },
      "execution_count": null,
      "outputs": [
        {
          "output_type": "stream",
          "name": "stdout",
          "text": [
            "{'nome': 'Guilherme', 'idade': 27, 'profissao': 'Instrutor', 'cidade': 'São Paulo'}\n"
          ]
        }
      ]
    },
    {
      "cell_type": "markdown",
      "source": [
        "###Aninhamento de Dicionários"
      ],
      "metadata": {
        "id": "JXSsvFkmpVlo"
      }
    },
    {
      "cell_type": "code",
      "source": [
        "# Dicionário aninhado\n",
        "aluno = {\n",
        "    \"nome\": \"João\",\n",
        "    \"idade\": 22,\n",
        "    \"curso\": {\n",
        "        \"nome\": \"Engenharia\",\n",
        "        \"duracao\": 5\n",
        "    }\n",
        "}\n",
        "\n",
        "# Acessando valores em dicionários aninhados\n",
        "curso_nome = aluno[\"curso\"][\"nome\"]\n",
        "print(curso_nome)  # Engenharia\n"
      ],
      "metadata": {
        "id": "7-UWE5UWr-mU",
        "colab": {
          "base_uri": "https://localhost:8080/"
        },
        "outputId": "687b068d-2215-4e27-803c-7a62953d4007"
      },
      "execution_count": null,
      "outputs": [
        {
          "output_type": "stream",
          "name": "stdout",
          "text": [
            "Engenharia\n"
          ]
        }
      ]
    },
    {
      "cell_type": "markdown",
      "source": [
        "###Exemplos"
      ],
      "metadata": {
        "id": "PBKhfGMvpXN_"
      }
    },
    {
      "cell_type": "markdown",
      "source": [
        "Exemplo 1"
      ],
      "metadata": {
        "id": "g-8WEFKasVDt"
      }
    },
    {
      "cell_type": "code",
      "source": [
        "# Informações de produtos\n",
        "produto = {\n",
        "    \"id\": 101,\n",
        "    \"nome\": \"Notebook\",\n",
        "    \"preco\": 3500.00,\n",
        "    \"estoque\": 50\n",
        "}"
      ],
      "metadata": {
        "id": "f3XAtW6UsMau"
      },
      "execution_count": null,
      "outputs": []
    },
    {
      "cell_type": "code",
      "source": [
        "for chave, valor in produto.items():\n",
        "    print(f\"{chave}: {valor}\")"
      ],
      "metadata": {
        "id": "zOJtkmn9sZYC",
        "colab": {
          "base_uri": "https://localhost:8080/"
        },
        "outputId": "1f6dae02-34ff-4449-9f01-0a00a3afc7a2"
      },
      "execution_count": null,
      "outputs": [
        {
          "output_type": "stream",
          "name": "stdout",
          "text": [
            "id: 101\n",
            "nome: Notebook\n",
            "preco: 3500.0\n",
            "estoque: 50\n"
          ]
        }
      ]
    },
    {
      "cell_type": "markdown",
      "source": [
        "Exemplo 2"
      ],
      "metadata": {
        "id": "REVtMpo6sZ1T"
      }
    },
    {
      "cell_type": "code",
      "source": [
        "# Registro de alunos\n",
        "aluno = {\n",
        "    \"matricula\": 12345,\n",
        "    \"nome\": \"Maria\",\n",
        "    \"idade\": 20,\n",
        "    \"notas\": {\n",
        "        \"matematica\": 85,\n",
        "        \"portugues\": 90,\n",
        "        \"fisica\": 78\n",
        "    }\n",
        "}"
      ],
      "metadata": {
        "id": "kQqYBWzusOfh"
      },
      "execution_count": null,
      "outputs": []
    },
    {
      "cell_type": "code",
      "source": [
        "# Método get\n",
        "notas = aluno.get(\"notas\")\n",
        "print(notas)\n"
      ],
      "metadata": {
        "id": "ZAbldTe4sdC_",
        "colab": {
          "base_uri": "https://localhost:8080/"
        },
        "outputId": "789b8b3b-949b-4440-c775-b16c037c7471"
      },
      "execution_count": null,
      "outputs": [
        {
          "output_type": "stream",
          "name": "stdout",
          "text": [
            "{'matematica': 85, 'portugues': 90, 'fisica': 78}\n"
          ]
        }
      ]
    },
    {
      "cell_type": "code",
      "source": [
        "aluno['notas']['matematica']"
      ],
      "metadata": {
        "id": "IMC1sUP3tfeN",
        "colab": {
          "base_uri": "https://localhost:8080/"
        },
        "outputId": "eb314679-d6b7-4c30-c2c4-29cfe62ff3fa"
      },
      "execution_count": null,
      "outputs": [
        {
          "output_type": "execute_result",
          "data": {
            "text/plain": [
              "85"
            ]
          },
          "metadata": {},
          "execution_count": 40
        }
      ]
    },
    {
      "cell_type": "code",
      "source": [
        "notas = aluno[\"notas\"]\n",
        "for materia, nota in notas.items():\n",
        "    print(f\"Nota de {materia.capitalize()}: {nota}\")"
      ],
      "metadata": {
        "id": "2WYUUh6lt5Y7",
        "colab": {
          "base_uri": "https://localhost:8080/"
        },
        "outputId": "22527c63-b504-4b82-e589-410e7b09d972"
      },
      "execution_count": null,
      "outputs": [
        {
          "output_type": "stream",
          "name": "stdout",
          "text": [
            "Nota de Matematica: 85\n",
            "Nota de Portugues: 90\n",
            "Nota de Fisica: 78\n"
          ]
        }
      ]
    },
    {
      "cell_type": "code",
      "source": [
        "# Modificando a nota de matemática\n",
        "aluno[\"notas\"][\"matematica\"] = 88\n",
        "print(f\"Nova nota de Matemática: {aluno['notas']['matematica']}\")  # 88\n"
      ],
      "metadata": {
        "id": "4TvPRk0LuHmG",
        "colab": {
          "base_uri": "https://localhost:8080/"
        },
        "outputId": "0c7ed45a-7e35-4262-8505-552bbc6c5471"
      },
      "execution_count": null,
      "outputs": [
        {
          "output_type": "stream",
          "name": "stdout",
          "text": [
            "Nova nota de Matemática: 88\n"
          ]
        }
      ]
    },
    {
      "cell_type": "markdown",
      "source": [
        "Exemplo 3"
      ],
      "metadata": {
        "id": "UzcGL25SsbXc"
      }
    },
    {
      "cell_type": "code",
      "source": [
        "# Dados de clientes\n",
        "cliente = {\n",
        "    \"id\": 567,\n",
        "    \"nome\": \"João\",\n",
        "    \"compras\": [\n",
        "        {\"produto\": \"Smartphone\", \"valor\": 1200.00},\n",
        "        {\"produto\": \"Fone de ouvido\", \"valor\": 200.00}\n",
        "    ]\n",
        "}"
      ],
      "metadata": {
        "id": "VIHjn-6usOcl"
      },
      "execution_count": null,
      "outputs": []
    },
    {
      "cell_type": "code",
      "source": [
        "nova_compra = {\"produto\": \"Laptop\", \"valor\": 2500.00}"
      ],
      "metadata": {
        "id": "Z8l6YUSEsdkT"
      },
      "execution_count": null,
      "outputs": []
    },
    {
      "cell_type": "code",
      "source": [
        "cliente[\"compras\"].append(nova_compra)"
      ],
      "metadata": {
        "id": "Kjx54UtVut_T"
      },
      "execution_count": null,
      "outputs": []
    },
    {
      "cell_type": "code",
      "source": [
        "cliente"
      ],
      "metadata": {
        "id": "eecY15uTuzzl",
        "colab": {
          "base_uri": "https://localhost:8080/"
        },
        "outputId": "49bfc1b5-0b52-48e5-8778-9e47f33779f6"
      },
      "execution_count": null,
      "outputs": [
        {
          "output_type": "execute_result",
          "data": {
            "text/plain": [
              "{'id': 567,\n",
              " 'nome': 'João',\n",
              " 'compras': [{'produto': 'Smartphone', 'valor': 1200.0},\n",
              "  {'produto': 'Fone de ouvido', 'valor': 200.0},\n",
              "  {'produto': 'Laptop', 'valor': 2500.0}]}"
            ]
          },
          "metadata": {},
          "execution_count": 49
        }
      ]
    },
    {
      "cell_type": "code",
      "source": [
        "cliente['compras'][1].update({'valor': 180})"
      ],
      "metadata": {
        "id": "mU3rE-8NvGp2"
      },
      "execution_count": null,
      "outputs": []
    },
    {
      "cell_type": "code",
      "source": [
        "cliente"
      ],
      "metadata": {
        "id": "Rurk8A6lwAnX",
        "colab": {
          "base_uri": "https://localhost:8080/"
        },
        "outputId": "71f2a695-f0c8-4da0-8174-020ba2a625fe"
      },
      "execution_count": null,
      "outputs": [
        {
          "output_type": "execute_result",
          "data": {
            "text/plain": [
              "{'id': 567,\n",
              " 'nome': 'João',\n",
              " 'compras': [{'produto': 'Smartphone', 'valor': 1200.0},\n",
              "  {'produto': 'Fone de ouvido', 'valor': 180},\n",
              "  {'produto': 'Laptop', 'valor': 2500.0}]}"
            ]
          },
          "metadata": {},
          "execution_count": 51
        }
      ]
    },
    {
      "cell_type": "code",
      "source": [
        "import pandas as pd\n",
        "dicionario = {'nome':['João','Maria'],\n",
        "              'idade': [17,18],\n",
        "              'profissao':['estudante','professor']}"
      ],
      "metadata": {
        "id": "WThJ5LBa1wVp"
      },
      "execution_count": null,
      "outputs": []
    },
    {
      "cell_type": "code",
      "source": [
        "tabela = pd.DataFrame(dicionario)"
      ],
      "metadata": {
        "id": "8syAh-Yi2V9h"
      },
      "execution_count": null,
      "outputs": []
    },
    {
      "cell_type": "code",
      "source": [
        "tabela"
      ],
      "metadata": {
        "colab": {
          "base_uri": "https://localhost:8080/",
          "height": 125
        },
        "id": "ImWXfCjU2psk",
        "outputId": "f64a7969-4f8e-4186-845c-a414b6cc85ab"
      },
      "execution_count": null,
      "outputs": [
        {
          "output_type": "execute_result",
          "data": {
            "text/plain": [
              "    nome  idade  profissao\n",
              "0   João     17  estudante\n",
              "1  Maria     18  professor"
            ],
            "text/html": [
              "\n",
              "  <div id=\"df-fb0d46a3-a616-4688-8752-e1f8296c4247\" class=\"colab-df-container\">\n",
              "    <div>\n",
              "<style scoped>\n",
              "    .dataframe tbody tr th:only-of-type {\n",
              "        vertical-align: middle;\n",
              "    }\n",
              "\n",
              "    .dataframe tbody tr th {\n",
              "        vertical-align: top;\n",
              "    }\n",
              "\n",
              "    .dataframe thead th {\n",
              "        text-align: right;\n",
              "    }\n",
              "</style>\n",
              "<table border=\"1\" class=\"dataframe\">\n",
              "  <thead>\n",
              "    <tr style=\"text-align: right;\">\n",
              "      <th></th>\n",
              "      <th>nome</th>\n",
              "      <th>idade</th>\n",
              "      <th>profissao</th>\n",
              "    </tr>\n",
              "  </thead>\n",
              "  <tbody>\n",
              "    <tr>\n",
              "      <th>0</th>\n",
              "      <td>João</td>\n",
              "      <td>17</td>\n",
              "      <td>estudante</td>\n",
              "    </tr>\n",
              "    <tr>\n",
              "      <th>1</th>\n",
              "      <td>Maria</td>\n",
              "      <td>18</td>\n",
              "      <td>professor</td>\n",
              "    </tr>\n",
              "  </tbody>\n",
              "</table>\n",
              "</div>\n",
              "    <div class=\"colab-df-buttons\">\n",
              "\n",
              "  <div class=\"colab-df-container\">\n",
              "    <button class=\"colab-df-convert\" onclick=\"convertToInteractive('df-fb0d46a3-a616-4688-8752-e1f8296c4247')\"\n",
              "            title=\"Convert this dataframe to an interactive table.\"\n",
              "            style=\"display:none;\">\n",
              "\n",
              "  <svg xmlns=\"http://www.w3.org/2000/svg\" height=\"24px\" viewBox=\"0 -960 960 960\">\n",
              "    <path d=\"M120-120v-720h720v720H120Zm60-500h600v-160H180v160Zm220 220h160v-160H400v160Zm0 220h160v-160H400v160ZM180-400h160v-160H180v160Zm440 0h160v-160H620v160ZM180-180h160v-160H180v160Zm440 0h160v-160H620v160Z\"/>\n",
              "  </svg>\n",
              "    </button>\n",
              "\n",
              "  <style>\n",
              "    .colab-df-container {\n",
              "      display:flex;\n",
              "      gap: 12px;\n",
              "    }\n",
              "\n",
              "    .colab-df-convert {\n",
              "      background-color: #E8F0FE;\n",
              "      border: none;\n",
              "      border-radius: 50%;\n",
              "      cursor: pointer;\n",
              "      display: none;\n",
              "      fill: #1967D2;\n",
              "      height: 32px;\n",
              "      padding: 0 0 0 0;\n",
              "      width: 32px;\n",
              "    }\n",
              "\n",
              "    .colab-df-convert:hover {\n",
              "      background-color: #E2EBFA;\n",
              "      box-shadow: 0px 1px 2px rgba(60, 64, 67, 0.3), 0px 1px 3px 1px rgba(60, 64, 67, 0.15);\n",
              "      fill: #174EA6;\n",
              "    }\n",
              "\n",
              "    .colab-df-buttons div {\n",
              "      margin-bottom: 4px;\n",
              "    }\n",
              "\n",
              "    [theme=dark] .colab-df-convert {\n",
              "      background-color: #3B4455;\n",
              "      fill: #D2E3FC;\n",
              "    }\n",
              "\n",
              "    [theme=dark] .colab-df-convert:hover {\n",
              "      background-color: #434B5C;\n",
              "      box-shadow: 0px 1px 3px 1px rgba(0, 0, 0, 0.15);\n",
              "      filter: drop-shadow(0px 1px 2px rgba(0, 0, 0, 0.3));\n",
              "      fill: #FFFFFF;\n",
              "    }\n",
              "  </style>\n",
              "\n",
              "    <script>\n",
              "      const buttonEl =\n",
              "        document.querySelector('#df-fb0d46a3-a616-4688-8752-e1f8296c4247 button.colab-df-convert');\n",
              "      buttonEl.style.display =\n",
              "        google.colab.kernel.accessAllowed ? 'block' : 'none';\n",
              "\n",
              "      async function convertToInteractive(key) {\n",
              "        const element = document.querySelector('#df-fb0d46a3-a616-4688-8752-e1f8296c4247');\n",
              "        const dataTable =\n",
              "          await google.colab.kernel.invokeFunction('convertToInteractive',\n",
              "                                                    [key], {});\n",
              "        if (!dataTable) return;\n",
              "\n",
              "        const docLinkHtml = 'Like what you see? Visit the ' +\n",
              "          '<a target=\"_blank\" href=https://colab.research.google.com/notebooks/data_table.ipynb>data table notebook</a>'\n",
              "          + ' to learn more about interactive tables.';\n",
              "        element.innerHTML = '';\n",
              "        dataTable['output_type'] = 'display_data';\n",
              "        await google.colab.output.renderOutput(dataTable, element);\n",
              "        const docLink = document.createElement('div');\n",
              "        docLink.innerHTML = docLinkHtml;\n",
              "        element.appendChild(docLink);\n",
              "      }\n",
              "    </script>\n",
              "  </div>\n",
              "\n",
              "\n",
              "<div id=\"df-2cff814c-88af-410d-baba-6a09ccb9e09b\">\n",
              "  <button class=\"colab-df-quickchart\" onclick=\"quickchart('df-2cff814c-88af-410d-baba-6a09ccb9e09b')\"\n",
              "            title=\"Suggest charts\"\n",
              "            style=\"display:none;\">\n",
              "\n",
              "<svg xmlns=\"http://www.w3.org/2000/svg\" height=\"24px\"viewBox=\"0 0 24 24\"\n",
              "     width=\"24px\">\n",
              "    <g>\n",
              "        <path d=\"M19 3H5c-1.1 0-2 .9-2 2v14c0 1.1.9 2 2 2h14c1.1 0 2-.9 2-2V5c0-1.1-.9-2-2-2zM9 17H7v-7h2v7zm4 0h-2V7h2v10zm4 0h-2v-4h2v4z\"/>\n",
              "    </g>\n",
              "</svg>\n",
              "  </button>\n",
              "\n",
              "<style>\n",
              "  .colab-df-quickchart {\n",
              "      --bg-color: #E8F0FE;\n",
              "      --fill-color: #1967D2;\n",
              "      --hover-bg-color: #E2EBFA;\n",
              "      --hover-fill-color: #174EA6;\n",
              "      --disabled-fill-color: #AAA;\n",
              "      --disabled-bg-color: #DDD;\n",
              "  }\n",
              "\n",
              "  [theme=dark] .colab-df-quickchart {\n",
              "      --bg-color: #3B4455;\n",
              "      --fill-color: #D2E3FC;\n",
              "      --hover-bg-color: #434B5C;\n",
              "      --hover-fill-color: #FFFFFF;\n",
              "      --disabled-bg-color: #3B4455;\n",
              "      --disabled-fill-color: #666;\n",
              "  }\n",
              "\n",
              "  .colab-df-quickchart {\n",
              "    background-color: var(--bg-color);\n",
              "    border: none;\n",
              "    border-radius: 50%;\n",
              "    cursor: pointer;\n",
              "    display: none;\n",
              "    fill: var(--fill-color);\n",
              "    height: 32px;\n",
              "    padding: 0;\n",
              "    width: 32px;\n",
              "  }\n",
              "\n",
              "  .colab-df-quickchart:hover {\n",
              "    background-color: var(--hover-bg-color);\n",
              "    box-shadow: 0 1px 2px rgba(60, 64, 67, 0.3), 0 1px 3px 1px rgba(60, 64, 67, 0.15);\n",
              "    fill: var(--button-hover-fill-color);\n",
              "  }\n",
              "\n",
              "  .colab-df-quickchart-complete:disabled,\n",
              "  .colab-df-quickchart-complete:disabled:hover {\n",
              "    background-color: var(--disabled-bg-color);\n",
              "    fill: var(--disabled-fill-color);\n",
              "    box-shadow: none;\n",
              "  }\n",
              "\n",
              "  .colab-df-spinner {\n",
              "    border: 2px solid var(--fill-color);\n",
              "    border-color: transparent;\n",
              "    border-bottom-color: var(--fill-color);\n",
              "    animation:\n",
              "      spin 1s steps(1) infinite;\n",
              "  }\n",
              "\n",
              "  @keyframes spin {\n",
              "    0% {\n",
              "      border-color: transparent;\n",
              "      border-bottom-color: var(--fill-color);\n",
              "      border-left-color: var(--fill-color);\n",
              "    }\n",
              "    20% {\n",
              "      border-color: transparent;\n",
              "      border-left-color: var(--fill-color);\n",
              "      border-top-color: var(--fill-color);\n",
              "    }\n",
              "    30% {\n",
              "      border-color: transparent;\n",
              "      border-left-color: var(--fill-color);\n",
              "      border-top-color: var(--fill-color);\n",
              "      border-right-color: var(--fill-color);\n",
              "    }\n",
              "    40% {\n",
              "      border-color: transparent;\n",
              "      border-right-color: var(--fill-color);\n",
              "      border-top-color: var(--fill-color);\n",
              "    }\n",
              "    60% {\n",
              "      border-color: transparent;\n",
              "      border-right-color: var(--fill-color);\n",
              "    }\n",
              "    80% {\n",
              "      border-color: transparent;\n",
              "      border-right-color: var(--fill-color);\n",
              "      border-bottom-color: var(--fill-color);\n",
              "    }\n",
              "    90% {\n",
              "      border-color: transparent;\n",
              "      border-bottom-color: var(--fill-color);\n",
              "    }\n",
              "  }\n",
              "</style>\n",
              "\n",
              "  <script>\n",
              "    async function quickchart(key) {\n",
              "      const quickchartButtonEl =\n",
              "        document.querySelector('#' + key + ' button');\n",
              "      quickchartButtonEl.disabled = true;  // To prevent multiple clicks.\n",
              "      quickchartButtonEl.classList.add('colab-df-spinner');\n",
              "      try {\n",
              "        const charts = await google.colab.kernel.invokeFunction(\n",
              "            'suggestCharts', [key], {});\n",
              "      } catch (error) {\n",
              "        console.error('Error during call to suggestCharts:', error);\n",
              "      }\n",
              "      quickchartButtonEl.classList.remove('colab-df-spinner');\n",
              "      quickchartButtonEl.classList.add('colab-df-quickchart-complete');\n",
              "    }\n",
              "    (() => {\n",
              "      let quickchartButtonEl =\n",
              "        document.querySelector('#df-2cff814c-88af-410d-baba-6a09ccb9e09b button');\n",
              "      quickchartButtonEl.style.display =\n",
              "        google.colab.kernel.accessAllowed ? 'block' : 'none';\n",
              "    })();\n",
              "  </script>\n",
              "</div>\n",
              "\n",
              "  <div id=\"id_0d431f01-295a-4e90-9243-45cc0b8c2ab2\">\n",
              "    <style>\n",
              "      .colab-df-generate {\n",
              "        background-color: #E8F0FE;\n",
              "        border: none;\n",
              "        border-radius: 50%;\n",
              "        cursor: pointer;\n",
              "        display: none;\n",
              "        fill: #1967D2;\n",
              "        height: 32px;\n",
              "        padding: 0 0 0 0;\n",
              "        width: 32px;\n",
              "      }\n",
              "\n",
              "      .colab-df-generate:hover {\n",
              "        background-color: #E2EBFA;\n",
              "        box-shadow: 0px 1px 2px rgba(60, 64, 67, 0.3), 0px 1px 3px 1px rgba(60, 64, 67, 0.15);\n",
              "        fill: #174EA6;\n",
              "      }\n",
              "\n",
              "      [theme=dark] .colab-df-generate {\n",
              "        background-color: #3B4455;\n",
              "        fill: #D2E3FC;\n",
              "      }\n",
              "\n",
              "      [theme=dark] .colab-df-generate:hover {\n",
              "        background-color: #434B5C;\n",
              "        box-shadow: 0px 1px 3px 1px rgba(0, 0, 0, 0.15);\n",
              "        filter: drop-shadow(0px 1px 2px rgba(0, 0, 0, 0.3));\n",
              "        fill: #FFFFFF;\n",
              "      }\n",
              "    </style>\n",
              "    <button class=\"colab-df-generate\" onclick=\"generateWithVariable('tabela')\"\n",
              "            title=\"Generate code using this dataframe.\"\n",
              "            style=\"display:none;\">\n",
              "\n",
              "  <svg xmlns=\"http://www.w3.org/2000/svg\" height=\"24px\"viewBox=\"0 0 24 24\"\n",
              "       width=\"24px\">\n",
              "    <path d=\"M7,19H8.4L18.45,9,17,7.55,7,17.6ZM5,21V16.75L18.45,3.32a2,2,0,0,1,2.83,0l1.4,1.43a1.91,1.91,0,0,1,.58,1.4,1.91,1.91,0,0,1-.58,1.4L9.25,21ZM18.45,9,17,7.55Zm-12,3A5.31,5.31,0,0,0,4.9,8.1,5.31,5.31,0,0,0,1,6.5,5.31,5.31,0,0,0,4.9,4.9,5.31,5.31,0,0,0,6.5,1,5.31,5.31,0,0,0,8.1,4.9,5.31,5.31,0,0,0,12,6.5,5.46,5.46,0,0,0,6.5,12Z\"/>\n",
              "  </svg>\n",
              "    </button>\n",
              "    <script>\n",
              "      (() => {\n",
              "      const buttonEl =\n",
              "        document.querySelector('#id_0d431f01-295a-4e90-9243-45cc0b8c2ab2 button.colab-df-generate');\n",
              "      buttonEl.style.display =\n",
              "        google.colab.kernel.accessAllowed ? 'block' : 'none';\n",
              "\n",
              "      buttonEl.onclick = () => {\n",
              "        google.colab.notebook.generateWithVariable('tabela');\n",
              "      }\n",
              "      })();\n",
              "    </script>\n",
              "  </div>\n",
              "\n",
              "    </div>\n",
              "  </div>\n"
            ],
            "application/vnd.google.colaboratory.intrinsic+json": {
              "type": "dataframe",
              "variable_name": "tabela",
              "summary": "{\n  \"name\": \"tabela\",\n  \"rows\": 2,\n  \"fields\": [\n    {\n      \"column\": \"nome\",\n      \"properties\": {\n        \"dtype\": \"string\",\n        \"num_unique_values\": 2,\n        \"samples\": [\n          \"Maria\",\n          \"Jo\\u00e3o\"\n        ],\n        \"semantic_type\": \"\",\n        \"description\": \"\"\n      }\n    },\n    {\n      \"column\": \"idade\",\n      \"properties\": {\n        \"dtype\": \"number\",\n        \"std\": 0,\n        \"min\": 17,\n        \"max\": 18,\n        \"num_unique_values\": 2,\n        \"samples\": [\n          18,\n          17\n        ],\n        \"semantic_type\": \"\",\n        \"description\": \"\"\n      }\n    },\n    {\n      \"column\": \"profissao\",\n      \"properties\": {\n        \"dtype\": \"string\",\n        \"num_unique_values\": 2,\n        \"samples\": [\n          \"professor\",\n          \"estudante\"\n        ],\n        \"semantic_type\": \"\",\n        \"description\": \"\"\n      }\n    }\n  ]\n}"
            }
          },
          "metadata": {},
          "execution_count": 58
        }
      ]
    },
    {
      "cell_type": "markdown",
      "source": [
        "##Exercícios"
      ],
      "metadata": {
        "id": "L21jo4NvjUx2"
      }
    },
    {
      "cell_type": "markdown",
      "source": [
        "Exercício 1\n",
        "\n",
        "Crie um programa em Python que peça ao usuário para inserir o nome de três frutas. O programa deve armazenar esses nomes em uma tupla e, em seguida, exibir cada nome de fruta na tela.\n",
        "\n",
        "Requisitos:\n",
        "- Solicite ao usuário que insira o nome de três frutas.\n",
        "- Armazene esses nomes em uma tupla.\n",
        "- Exiba cada nome de fruta na tela.\n",
        "\n",
        "![image.png](data:image/png;base64,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)"
      ],
      "metadata": {
        "id": "CFOxKax5kNn2"
      }
    },
    {
      "cell_type": "code",
      "source": [
        "import pandas as pd\n",
        "\n",
        "fruta1 = input('Digite o nome da primeira fruta: ')\n",
        "fruta2 = input('Digite o nome da segunda fruta: ')\n",
        "fruta3 = input('Digite o nome da terceira fruta: ')\n",
        "\n",
        "frutas = {'Frutas':['fruta1','fruta2','fruta3']}\n",
        "tabela = pd.DataFrame(frutas)\n",
        "tabela\n"
      ],
      "metadata": {
        "colab": {
          "base_uri": "https://localhost:8080/",
          "height": 431
        },
        "id": "osCaL7_C30n8",
        "outputId": "e16e6112-7c89-4765-d993-aea682e18a9e"
      },
      "execution_count": null,
      "outputs": [
        {
          "name": "stdout",
          "output_type": "stream",
          "text": [
            "Digite o nome da primeira fruta: Maça\n",
            "Digite o nome da segunda fruta: Banana\n",
            "Digite o nome da terceira fruta: Uva\n"
          ]
        },
        {
          "output_type": "execute_result",
          "data": {
            "text/plain": [
              "   Frutas\n",
              "0  fruta1\n",
              "1  fruta2\n",
              "2  fruta3"
            ],
            "text/html": [
              "\n",
              "  <div id=\"df-e0d827b6-c23b-4725-92a6-bdf47327cb3b\" class=\"colab-df-container\">\n",
              "    <div>\n",
              "<style scoped>\n",
              "    .dataframe tbody tr th:only-of-type {\n",
              "        vertical-align: middle;\n",
              "    }\n",
              "\n",
              "    .dataframe tbody tr th {\n",
              "        vertical-align: top;\n",
              "    }\n",
              "\n",
              "    .dataframe thead th {\n",
              "        text-align: right;\n",
              "    }\n",
              "</style>\n",
              "<table border=\"1\" class=\"dataframe\">\n",
              "  <thead>\n",
              "    <tr style=\"text-align: right;\">\n",
              "      <th></th>\n",
              "      <th>Frutas</th>\n",
              "    </tr>\n",
              "  </thead>\n",
              "  <tbody>\n",
              "    <tr>\n",
              "      <th>0</th>\n",
              "      <td>fruta1</td>\n",
              "    </tr>\n",
              "    <tr>\n",
              "      <th>1</th>\n",
              "      <td>fruta2</td>\n",
              "    </tr>\n",
              "    <tr>\n",
              "      <th>2</th>\n",
              "      <td>fruta3</td>\n",
              "    </tr>\n",
              "  </tbody>\n",
              "</table>\n",
              "</div>\n",
              "    <div class=\"colab-df-buttons\">\n",
              "\n",
              "  <div class=\"colab-df-container\">\n",
              "    <button class=\"colab-df-convert\" onclick=\"convertToInteractive('df-e0d827b6-c23b-4725-92a6-bdf47327cb3b')\"\n",
              "            title=\"Convert this dataframe to an interactive table.\"\n",
              "            style=\"display:none;\">\n",
              "\n",
              "  <svg xmlns=\"http://www.w3.org/2000/svg\" height=\"24px\" viewBox=\"0 -960 960 960\">\n",
              "    <path d=\"M120-120v-720h720v720H120Zm60-500h600v-160H180v160Zm220 220h160v-160H400v160Zm0 220h160v-160H400v160ZM180-400h160v-160H180v160Zm440 0h160v-160H620v160ZM180-180h160v-160H180v160Zm440 0h160v-160H620v160Z\"/>\n",
              "  </svg>\n",
              "    </button>\n",
              "\n",
              "  <style>\n",
              "    .colab-df-container {\n",
              "      display:flex;\n",
              "      gap: 12px;\n",
              "    }\n",
              "\n",
              "    .colab-df-convert {\n",
              "      background-color: #E8F0FE;\n",
              "      border: none;\n",
              "      border-radius: 50%;\n",
              "      cursor: pointer;\n",
              "      display: none;\n",
              "      fill: #1967D2;\n",
              "      height: 32px;\n",
              "      padding: 0 0 0 0;\n",
              "      width: 32px;\n",
              "    }\n",
              "\n",
              "    .colab-df-convert:hover {\n",
              "      background-color: #E2EBFA;\n",
              "      box-shadow: 0px 1px 2px rgba(60, 64, 67, 0.3), 0px 1px 3px 1px rgba(60, 64, 67, 0.15);\n",
              "      fill: #174EA6;\n",
              "    }\n",
              "\n",
              "    .colab-df-buttons div {\n",
              "      margin-bottom: 4px;\n",
              "    }\n",
              "\n",
              "    [theme=dark] .colab-df-convert {\n",
              "      background-color: #3B4455;\n",
              "      fill: #D2E3FC;\n",
              "    }\n",
              "\n",
              "    [theme=dark] .colab-df-convert:hover {\n",
              "      background-color: #434B5C;\n",
              "      box-shadow: 0px 1px 3px 1px rgba(0, 0, 0, 0.15);\n",
              "      filter: drop-shadow(0px 1px 2px rgba(0, 0, 0, 0.3));\n",
              "      fill: #FFFFFF;\n",
              "    }\n",
              "  </style>\n",
              "\n",
              "    <script>\n",
              "      const buttonEl =\n",
              "        document.querySelector('#df-e0d827b6-c23b-4725-92a6-bdf47327cb3b button.colab-df-convert');\n",
              "      buttonEl.style.display =\n",
              "        google.colab.kernel.accessAllowed ? 'block' : 'none';\n",
              "\n",
              "      async function convertToInteractive(key) {\n",
              "        const element = document.querySelector('#df-e0d827b6-c23b-4725-92a6-bdf47327cb3b');\n",
              "        const dataTable =\n",
              "          await google.colab.kernel.invokeFunction('convertToInteractive',\n",
              "                                                    [key], {});\n",
              "        if (!dataTable) return;\n",
              "\n",
              "        const docLinkHtml = 'Like what you see? Visit the ' +\n",
              "          '<a target=\"_blank\" href=https://colab.research.google.com/notebooks/data_table.ipynb>data table notebook</a>'\n",
              "          + ' to learn more about interactive tables.';\n",
              "        element.innerHTML = '';\n",
              "        dataTable['output_type'] = 'display_data';\n",
              "        await google.colab.output.renderOutput(dataTable, element);\n",
              "        const docLink = document.createElement('div');\n",
              "        docLink.innerHTML = docLinkHtml;\n",
              "        element.appendChild(docLink);\n",
              "      }\n",
              "    </script>\n",
              "  </div>\n",
              "\n",
              "\n",
              "<div id=\"df-4cb26a40-b856-4f07-b4c0-56590a8cca81\">\n",
              "  <button class=\"colab-df-quickchart\" onclick=\"quickchart('df-4cb26a40-b856-4f07-b4c0-56590a8cca81')\"\n",
              "            title=\"Suggest charts\"\n",
              "            style=\"display:none;\">\n",
              "\n",
              "<svg xmlns=\"http://www.w3.org/2000/svg\" height=\"24px\"viewBox=\"0 0 24 24\"\n",
              "     width=\"24px\">\n",
              "    <g>\n",
              "        <path d=\"M19 3H5c-1.1 0-2 .9-2 2v14c0 1.1.9 2 2 2h14c1.1 0 2-.9 2-2V5c0-1.1-.9-2-2-2zM9 17H7v-7h2v7zm4 0h-2V7h2v10zm4 0h-2v-4h2v4z\"/>\n",
              "    </g>\n",
              "</svg>\n",
              "  </button>\n",
              "\n",
              "<style>\n",
              "  .colab-df-quickchart {\n",
              "      --bg-color: #E8F0FE;\n",
              "      --fill-color: #1967D2;\n",
              "      --hover-bg-color: #E2EBFA;\n",
              "      --hover-fill-color: #174EA6;\n",
              "      --disabled-fill-color: #AAA;\n",
              "      --disabled-bg-color: #DDD;\n",
              "  }\n",
              "\n",
              "  [theme=dark] .colab-df-quickchart {\n",
              "      --bg-color: #3B4455;\n",
              "      --fill-color: #D2E3FC;\n",
              "      --hover-bg-color: #434B5C;\n",
              "      --hover-fill-color: #FFFFFF;\n",
              "      --disabled-bg-color: #3B4455;\n",
              "      --disabled-fill-color: #666;\n",
              "  }\n",
              "\n",
              "  .colab-df-quickchart {\n",
              "    background-color: var(--bg-color);\n",
              "    border: none;\n",
              "    border-radius: 50%;\n",
              "    cursor: pointer;\n",
              "    display: none;\n",
              "    fill: var(--fill-color);\n",
              "    height: 32px;\n",
              "    padding: 0;\n",
              "    width: 32px;\n",
              "  }\n",
              "\n",
              "  .colab-df-quickchart:hover {\n",
              "    background-color: var(--hover-bg-color);\n",
              "    box-shadow: 0 1px 2px rgba(60, 64, 67, 0.3), 0 1px 3px 1px rgba(60, 64, 67, 0.15);\n",
              "    fill: var(--button-hover-fill-color);\n",
              "  }\n",
              "\n",
              "  .colab-df-quickchart-complete:disabled,\n",
              "  .colab-df-quickchart-complete:disabled:hover {\n",
              "    background-color: var(--disabled-bg-color);\n",
              "    fill: var(--disabled-fill-color);\n",
              "    box-shadow: none;\n",
              "  }\n",
              "\n",
              "  .colab-df-spinner {\n",
              "    border: 2px solid var(--fill-color);\n",
              "    border-color: transparent;\n",
              "    border-bottom-color: var(--fill-color);\n",
              "    animation:\n",
              "      spin 1s steps(1) infinite;\n",
              "  }\n",
              "\n",
              "  @keyframes spin {\n",
              "    0% {\n",
              "      border-color: transparent;\n",
              "      border-bottom-color: var(--fill-color);\n",
              "      border-left-color: var(--fill-color);\n",
              "    }\n",
              "    20% {\n",
              "      border-color: transparent;\n",
              "      border-left-color: var(--fill-color);\n",
              "      border-top-color: var(--fill-color);\n",
              "    }\n",
              "    30% {\n",
              "      border-color: transparent;\n",
              "      border-left-color: var(--fill-color);\n",
              "      border-top-color: var(--fill-color);\n",
              "      border-right-color: var(--fill-color);\n",
              "    }\n",
              "    40% {\n",
              "      border-color: transparent;\n",
              "      border-right-color: var(--fill-color);\n",
              "      border-top-color: var(--fill-color);\n",
              "    }\n",
              "    60% {\n",
              "      border-color: transparent;\n",
              "      border-right-color: var(--fill-color);\n",
              "    }\n",
              "    80% {\n",
              "      border-color: transparent;\n",
              "      border-right-color: var(--fill-color);\n",
              "      border-bottom-color: var(--fill-color);\n",
              "    }\n",
              "    90% {\n",
              "      border-color: transparent;\n",
              "      border-bottom-color: var(--fill-color);\n",
              "    }\n",
              "  }\n",
              "</style>\n",
              "\n",
              "  <script>\n",
              "    async function quickchart(key) {\n",
              "      const quickchartButtonEl =\n",
              "        document.querySelector('#' + key + ' button');\n",
              "      quickchartButtonEl.disabled = true;  // To prevent multiple clicks.\n",
              "      quickchartButtonEl.classList.add('colab-df-spinner');\n",
              "      try {\n",
              "        const charts = await google.colab.kernel.invokeFunction(\n",
              "            'suggestCharts', [key], {});\n",
              "      } catch (error) {\n",
              "        console.error('Error during call to suggestCharts:', error);\n",
              "      }\n",
              "      quickchartButtonEl.classList.remove('colab-df-spinner');\n",
              "      quickchartButtonEl.classList.add('colab-df-quickchart-complete');\n",
              "    }\n",
              "    (() => {\n",
              "      let quickchartButtonEl =\n",
              "        document.querySelector('#df-4cb26a40-b856-4f07-b4c0-56590a8cca81 button');\n",
              "      quickchartButtonEl.style.display =\n",
              "        google.colab.kernel.accessAllowed ? 'block' : 'none';\n",
              "    })();\n",
              "  </script>\n",
              "</div>\n",
              "\n",
              "  <div id=\"id_9fcb28d7-235f-411f-a093-1b3096c694f1\">\n",
              "    <style>\n",
              "      .colab-df-generate {\n",
              "        background-color: #E8F0FE;\n",
              "        border: none;\n",
              "        border-radius: 50%;\n",
              "        cursor: pointer;\n",
              "        display: none;\n",
              "        fill: #1967D2;\n",
              "        height: 32px;\n",
              "        padding: 0 0 0 0;\n",
              "        width: 32px;\n",
              "      }\n",
              "\n",
              "      .colab-df-generate:hover {\n",
              "        background-color: #E2EBFA;\n",
              "        box-shadow: 0px 1px 2px rgba(60, 64, 67, 0.3), 0px 1px 3px 1px rgba(60, 64, 67, 0.15);\n",
              "        fill: #174EA6;\n",
              "      }\n",
              "\n",
              "      [theme=dark] .colab-df-generate {\n",
              "        background-color: #3B4455;\n",
              "        fill: #D2E3FC;\n",
              "      }\n",
              "\n",
              "      [theme=dark] .colab-df-generate:hover {\n",
              "        background-color: #434B5C;\n",
              "        box-shadow: 0px 1px 3px 1px rgba(0, 0, 0, 0.15);\n",
              "        filter: drop-shadow(0px 1px 2px rgba(0, 0, 0, 0.3));\n",
              "        fill: #FFFFFF;\n",
              "      }\n",
              "    </style>\n",
              "    <button class=\"colab-df-generate\" onclick=\"generateWithVariable('tabela')\"\n",
              "            title=\"Generate code using this dataframe.\"\n",
              "            style=\"display:none;\">\n",
              "\n",
              "  <svg xmlns=\"http://www.w3.org/2000/svg\" height=\"24px\"viewBox=\"0 0 24 24\"\n",
              "       width=\"24px\">\n",
              "    <path d=\"M7,19H8.4L18.45,9,17,7.55,7,17.6ZM5,21V16.75L18.45,3.32a2,2,0,0,1,2.83,0l1.4,1.43a1.91,1.91,0,0,1,.58,1.4,1.91,1.91,0,0,1-.58,1.4L9.25,21ZM18.45,9,17,7.55Zm-12,3A5.31,5.31,0,0,0,4.9,8.1,5.31,5.31,0,0,0,1,6.5,5.31,5.31,0,0,0,4.9,4.9,5.31,5.31,0,0,0,6.5,1,5.31,5.31,0,0,0,8.1,4.9,5.31,5.31,0,0,0,12,6.5,5.46,5.46,0,0,0,6.5,12Z\"/>\n",
              "  </svg>\n",
              "    </button>\n",
              "    <script>\n",
              "      (() => {\n",
              "      const buttonEl =\n",
              "        document.querySelector('#id_9fcb28d7-235f-411f-a093-1b3096c694f1 button.colab-df-generate');\n",
              "      buttonEl.style.display =\n",
              "        google.colab.kernel.accessAllowed ? 'block' : 'none';\n",
              "\n",
              "      buttonEl.onclick = () => {\n",
              "        google.colab.notebook.generateWithVariable('tabela');\n",
              "      }\n",
              "      })();\n",
              "    </script>\n",
              "  </div>\n",
              "\n",
              "    </div>\n",
              "  </div>\n"
            ],
            "application/vnd.google.colaboratory.intrinsic+json": {
              "type": "dataframe",
              "variable_name": "tabela",
              "summary": "{\n  \"name\": \"tabela\",\n  \"rows\": 3,\n  \"fields\": [\n    {\n      \"column\": \"Frutas\",\n      \"properties\": {\n        \"dtype\": \"string\",\n        \"num_unique_values\": 3,\n        \"samples\": [\n          \"fruta1\",\n          \"fruta2\",\n          \"fruta3\"\n        ],\n        \"semantic_type\": \"\",\n        \"description\": \"\"\n      }\n    }\n  ]\n}"
            }
          },
          "metadata": {},
          "execution_count": 64
        },
        {
          "output_type": "display_data",
          "data": {
            "text/plain": [
              "<google.colab._quickchart_helpers.SectionTitle at 0x7cb52075ad40>"
            ],
            "text/html": [
              "<h4 class=\"colab-quickchart-section-title\">Categorical distributions</h4>\n",
              "<style>\n",
              "  .colab-quickchart-section-title {\n",
              "      clear: both;\n",
              "  }\n",
              "</style>"
            ]
          },
          "metadata": {}
        },
        {
          "output_type": "display_data",
          "data": {
            "text/plain": [
              "from matplotlib import pyplot as plt\n",
              "import seaborn as sns\n",
              "tabela.groupby('Frutas').size().plot(kind='barh', color=sns.palettes.mpl_palette('Dark2'))\n",
              "plt.gca().spines[['top', 'right',]].set_visible(False)"
            ],
            "text/html": [
              "      <div class=\"colab-quickchart-chart-with-code\" id=\"chart-b19261a9-e751-4289-a283-8d4213d99295\">\n",
              "        <img style=\"width: 180px;\" src=\"data:image/png;base64,iVBORw0KGgoAAAANSUhEUgAAAjsAAAGZCAYAAABv6vAjAAAAOXRFWHRTb2Z0d2FyZQBNYXRwbG90\n",
              "bGliIHZlcnNpb24zLjcuMSwgaHR0cHM6Ly9tYXRwbG90bGliLm9yZy/bCgiHAAAACXBIWXMAAA9h\n",
              "AAAPYQGoP6dpAAAXzklEQVR4nO3dfWyV9f3w8c+Bsm4LAhvR2Z8KyIMOy0PjqDcB5QduTkYUyDYX\n",
              "lhjYGCpTAxljEnSTuLmxiEoETKrLMoZG5+OEoCbzKQ7npjXSAS5jMq3I1M17ZC2bgECv+4/d69Yf\n",
              "6q/Ftgc/fb2Sk/Rcva5zPv2GcN65evWcUlEURQAAJNWr3AMAAHQlsQMApCZ2AIDUxA4AkJrYAQBS\n",
              "EzsAQGpiBwBITewAAKmJHQAgNbETETfddFO5RwAAuojYiYhXXnml3CMAAF1E7AAAqYkdACA1sQMA\n",
              "pCZ2AIDUxA4AkJrYAQBSEzsAQGpiBwBITewAAKmJHQAgNbEDAKQmdgCA1MQOAJCa2AEAUhM7AEBq\n",
              "YgcASE3sAACpiR0AIDWxAwCkJnYAgNTEDgCQmtgBAFITOwBAamIHAEhN7AAAqYkdACA1sQMApCZ2\n",
              "AIDUSkVRFOUeotzGnT4zzv7veeUeAwDSuW7leeUewZkdACA3sQMApCZ2AIDUxA4AkJrYAQBSEzsA\n",
              "QGpiBwBITewAAKmJHQAgNbEDAKQmdgCA1MQOAJCa2AEAUhM7AEBqYgcASE3sAACpiR0AIDWxAwCk\n",
              "JnYAgNTEDgCQmtgBAFITOwBAamIHAEhN7AAAqYkdACA1sQMApCZ2AIDUujR21q9fHyNHjoyamprY\n",
              "unVru49rbGyMurq6du//2c9+NsaMGRM1NTVx1llnxebNm49kXAAgoS6Nnbq6urj66qujoaEhRo8e\n",
              "3br94MGD73lcR2Pn7rvvji1btkRDQ0MsWrQovvKVrxzpyABAMl0WOwsWLIhNmzbFlVdeGRMmTIhS\n",
              "qRTLli2L2traWLp0aaxduzZmzpzZuv/GjRtj8uTJERExf/782L59e9TU1MT06dMjImLx4sVRW1sb\n",
              "NTU1MWnSpNi+fXvrsQMGDGj9uqmpKUql0rvOtX///mhubm5zK1paOvVnBwCOHl0WO6tWrYpx48bF\n",
              "ypUr4+mnn46IiN69e0d9fX2sWLHiPY+tq6uLU089NRoaGmLDhg0REbFkyZKor6+PhoaGuPTSS2Ph\n",
              "woVtjpk9e3acdNJJ8Z3vfCduu+22d33s5cuXR//+/dvcXv/zH97nTwsAHK0quvPJ5s6de8THPvLI\n",
              "I7F69erYs2dPtLS0xO7du9t8f926dRER8dOf/jSWLFkSDz300Ds+ztKlS2PRokVttk2ZdOERzwUA\n",
              "HN26NXb69u377yeuqIhDhw613t+3b9+7Hrdz5864/PLLo76+PoYNGxZbtmyJSZMmveO+c+bMifnz\n",
              "58df//rXGDhw4GHfr6ysjMrKyjbbSr38URoAZFW2V/nhw4fHli1bYu/evXHw4MG44447Wr/Xr1+/\n",
              "aGpqar3f1NQUffr0iaqqqiiKItasWdP6vb/97W/x2muvtd5/4IEHYuDAgfHxj3+8e34QAOCo1q1n\n",
              "dv7T+PHjY9q0aTFq1KioqqqKiRMnxjPPPBMREWPGjInq6uoYNWpUDB06NDZs2BCzZs2K6urqGDhw\n",
              "YJsLm5uamuKCCy6IvXv3Rq9eveLYY4+NjRs3vudFygBAz1EqiqIo9xDlNu70mXH2f88r9xgAkM51\n",
              "K88r9wjeQRkAyE3sAACpiR0AIDWxAwCkJnYAgNTEDgCQmtgBAFITOwBAamIHAEhN7AAAqYkdACA1\n",
              "sQMApCZ2AIDUxA4AkJrYAQBSEzsAQGpiBwBITewAAKmJHQAgNbEDAKQmdgCA1MQOAJCa2AEAUhM7\n",
              "AEBqYgcASK2i3AMcDSZNHhrX3XheuccAALqAMzsAQGpiBwBITewAAKmJHQAgNbEDAKQmdgCA1MQO\n",
              "AJCa2AEAUhM7AEBqYgcASE3sAACpiR0AIDWxAwCkJnYAgNTEDgCQmtgBAFITOwBAamIHAEhN7AAA\n",
              "qYkdACA1sQMApCZ2AIDUxA4AkJrYAQBSEzsAQGpiBwBITewAAKmJHQAgNbEDAKQmdgCA1MQOAJCa\n",
              "2AEAUhM7AEBqYgcASE3sAACpiR0AIDWxAwCkJnYAgNTEDgCQmtgBAFITOwBAamIHAEhN7AAAqYkd\n",
              "ACA1sQMApCZ2AIDUxA4AkJrYAQBSEzsAQGpiBwBITewAAKmJHQAgNbEDAKQmdgCA1MQOAJCa2AEA\n",
              "UhM7AEBqYgcASE3sAACpiR0AIDWxAwCkViqKoij3EOX21epSLK3VfQDQ2U5Ze6jcIzizAwDkJnYA\n",
              "gNTEDgCQmtgBAFITOwBAamIHAEhN7AAAqYkdACA1sQMApCZ2AIDUxA4AkJrYAQBSEzsAQGpiBwBI\n",
              "TewAAKmJHQAgtQ7Hzi233BJNTU0REXHZZZfFuHHj4pe//GWnDwYA0Bk6HDs333xz9O/fP371q1/F\n",
              "tm3b4vvf/34sXry4K2YDAHjfOhw7FRUVERHx+OOPx+zZs+Pcc8+NgwcPdvpgAACdocOx06tXr7jr\n",
              "rrvirrvuis985jMREfH22293+mAAAJ3hiH6Ndeedd8ZFF10UgwcPjj/84Q9x9tlnd8VsAADvW6ko\n",
              "iqLcQ5TbV6tLsbTWH6YBQGc7Ze2hco8QFUdy0N133x0NDQ2xb9++1m033nhjpw0FANBZOnw6Y8GC\n",
              "BXHbbbfF2rVro1Qqxb333tv6p+gAAEebDsfOE088EevXr49jjz02brjhhnj22Wdj165dXTEbAMD7\n",
              "1uHY+fCHPxy9evWKUqkUBw4ciOOPPz5ee+21rpgNAOB963DsHHPMMfHWW2/FmWeeGRdeeGEsXLgw\n",
              "PvrRj77jvuvXr4+RI0dGTU1NbN26td3P0djYGHV1de3ad9++fTFz5sw45ZRTYuzYsXHOOefEjh07\n",
              "2v1cAEBuHY6dO++8MyoqKmLFihUxZsyY6NOnT9x3333vuG9dXV1cffXV0dDQEKNHj27d/r+9CWFH\n",
              "Yici4uKLL47t27fHb3/725gxY0bMmzev3ccCALl1OHYefPDB+NCHPhQf+chH4qqrrorrr78+fvGL\n",
              "Xxy234IFC2LTpk1x5ZVXxoQJE6JUKsWyZcuitrY2li5dGmvXro2ZM2e27r9x48aYPHlyRETMnz8/\n",
              "tm/fHjU1NTF9+vSIiFi8eHHU1tZGTU1NTJo0KbZv3x4R//y12rRp06JUKkVExPjx46OxsfFd59+/\n",
              "f380Nze3uR1q6egqAAAfFB2OnTVr1hy27eabbz5s26pVq2LcuHGxcuXKePrppyMionfv3lFfXx8r\n",
              "Vqx4z+eoq6uLU089NRoaGmLDhg0REbFkyZKor6+PhoaGuPTSS2PhwoXveOxNN90UM2bMeNfHXr58\n",
              "efTv37/Nbcv/fc9xAIAPsHa/z86zzz4bv/71r+PNN9+MVatWtW5vamqK/fv3t+sx5s6d2/EJ/79H\n",
              "HnkkVq9eHXv27ImWlpbYvXv3Yfv84Ac/iB07dsRjjz32ro+zdOnSWLRoUZttl/+f/kc8FwBwdGt3\n",
              "7Lz++uvR0NAQb731VmzevLl1e79+/WLt2rXteoy+ffv++4krKuLQoX+/q+J/vkHh/7Rz5864/PLL\n",
              "o76+PoYNGxZbtmyJSZMmtdnn+uuvj/vvvz8effTRd71gOiKisrIyKisr22zr7c2TASCtdsfOjBkz\n",
              "YsaMGfHwww/H5z73uff9xMOHD48tW7bE3r17o0+fPnHHHXe0fq9fv35t3qiwqakp+vTpE1VVVVEU\n",
              "xWG/SrvxxhvjzjvvjEcffTQGDBjwvmcDAPLo8MdFvPnmm7Fu3brDts+ePbtDjzN+/PiYNm1ajBo1\n",
              "KqqqqmLixInxzDPPRETEmDFjorq6OkaNGhVDhw6NDRs2xKxZs6K6ujoGDhzY5sLmXbt2xTe/+c0Y\n",
              "OnRoTJkyJSL+efbmX48FAPRsHf4g0AsuuKD163379sVTTz0V48ePj4cffrjTh+suPggUALrGB/KD\n",
              "QO+55542919++eW46qqrOm0gAIDO9L5PZ5x88snxwgsvdMYsAACdrsNndv71vjcREYcOHYpnnnnm\n",
              "sL9uAgA4WnQ4dlauXPnvgysqYvjw4XHXXXd16lAAAJ2lQ7HT0tISy5cvj/Hjx3fVPAAAnapD1+z0\n",
              "6tUrLrnkkq6aBQCg03X4AuURI0bEjh07umIWAIBO1+Frdnbv3h01NTUxYcKENh//cP/993fqYAAA\n",
              "naHdsXPxxRfHrbfeGnPmzInp06fHxz72sa6cCwCgU7Q7dp577rmIiJgzZ06cfvrp8fzzz3fZUAAA\n",
              "neWI3lSwg58wAQBQNu0+s7N3797YunVrFEUR+/bta/36X8aMGdMlAwIAvB8dip3p06e33v/Pr0ul\n",
              "Urz00kudOxkAQCdod+w0NjZ24RgAAF3jfX8QKADA0UzsAACpiR0AIDWxAwCkJnYAgNTEDgCQmtgB\n",
              "AFITOwBAamIHAEhN7AAAqYkdACC1dn82VmYfO/cbccqNN5Z7DACgCzizAwCkJnYAgNTEDgCQmtgB\n",
              "AFITOwBAamIHAEhN7AAAqYkdACA1sQMApCZ2AIDUxA4AkJrYAQBSEzsAQGpiBwBITewAAKmJHQAg\n",
              "NbEDAKQmdgCA1MQOAJCa2AEAUhM7AEBqYgcASE3sAACpiR0AIDWxAwCkJnYAgNTEDgCQmtgBAFIT\n",
              "OwBAamIHAEhN7AAAqYkdACA1sQMApCZ2AIDUxA4AkJrYAQBSEzsAQGpiBwBITewAAKmJHQAgNbED\n",
              "AKQmdgCA1MQOAJCa2AEAUhM7AEBqYgcASE3sAACpiR0AIDWxAwCkJnYAgNTEDgCQmtgBAFITOwBA\n",
              "amIHAEhN7AAAqYkdACA1sQMApCZ2AIDUxA4AkJrYAQBSEzsAQGqloiiKcg9Rbn3PrY0Bsz5d7jEA\n",
              "IJ1dX/1huUdwZgcAyE3sAACpiR0AIDWxAwCkJnYAgNTEDgCQmtgBAFITOwBAamIHAEhN7AAAqYkd\n",
              "ACA1sQMApCZ2AIDUxA4AkJrYAQBSEzsAQGpiBwBITewAAKmJHQAgNbEDAKQmdgCA1MQOAJCa2AEA\n",
              "UhM7AEBqYgcASE3sAACpdWnsrF+/PkaOHBk1NTWxdevWdh/X2NgYdXV17d5/wYIFMWTIkCiVStHQ\n",
              "0HAEkwIAWXVp7NTV1cXVV18dDQ0NMXr06NbtBw8efM/jOho7X/ziF+Opp56KwYMHH/GsAEBOXRY7\n",
              "CxYsiE2bNsWVV14ZEyZMiFKpFMuWLYva2tpYunRprF27NmbOnNm6/8aNG2Py5MkRETF//vzYvn17\n",
              "1NTUxPTp0yMiYvHixVFbWxs1NTUxadKk2L59e+uxkyZNihNPPLGrfhQA4AOsy2Jn1apVMW7cuFi5\n",
              "cmU8/fTTERHRu3fvqK+vjxUrVrznsXV1dXHqqadGQ0NDbNiwISIilixZEvX19dHQ0BCXXnppLFy4\n",
              "8Ijm2r9/fzQ3N7e5xaHiiB4LADj6VXTnk82dO/eIj33kkUdi9erVsWfPnmhpaYndu3cf0eMsX748\n",
              "rrnmmjbb+gz9ryOeCwA4unXrX2P17du39euKioo4dOhQ6/19+/a963E7d+6Myy+/PG6//fbYtm1b\n",
              "/OxnP3vP/d/L0qVLo6mpqc3tQydXHdFjAQBHv249s/Ofhg8fHlu2bIm9e/dGnz594o477mj9Xr9+\n",
              "/aKpqan1flNTU/Tp0yeqqqqiKIpYs2bNET9vZWVlVFZWtt3Yu3TEjwcAHN3K9j4748ePj2nTpsWo\n",
              "UaNi8uTJMWLEiNbvjRkzJqqrq2PUqFExffr0GD16dMyaNSuqq6ujtrY2Bg0a1OaxLrnkkjjxxBNj\n",
              "165dce6558bw4cO7+8cBAI5SpaIoevzVuX3PrY0Bsz5d7jEAIJ1dX/1huUfwDsoAQG5iBwBITewA\n",
              "AKmJHQAgNbEDAKQmdgCA1MQOAJCa2AEAUhM7AEBqYgcASE3sAACpiR0AIDWxAwCkJnYAgNTEDgCQ\n",
              "mtgBAFITOwBAamIHAEhN7AAAqYkdACA1sQMApCZ2AIDUxA4AkJrYAQBSEzsAQGoV5R7gaHBx9Vlx\n",
              "41d/WO4xAIAu4MwOAJCa2AEAUhM7AEBqYgcASE3sAACpiR0AIDWxAwCkJnYAgNTEDgCQmtgBAFIT\n",
              "OwBAamIHAEhN7AAAqYkdACA1sQMApCZ2AIDUxA4AkJrYAQBSEzsAQGpiBwBITewAAKmJHQAgNbED\n",
              "AKQmdgCA1MQOAJCa2AEAUhM7AEBqYgcASE3sAACpiR0AILWKcg9Qbvv374+HH344Dh06FL179y73\n",
              "OD3KoUOH4tlnn40zzjjD2ncj614+1r48rHv5dPXaDx48OBYuXPi/7lcqiqLo9Gf/AGlubo7+/ftH\n",
              "U1NT9OvXr9zj9CjWvjyse/lY+/Kw7uVztKy9X2MBAKmJHQAgNbEDAKTW42OnsrIyli1bFpWVleUe\n",
              "pcex9uVh3cvH2peHdS+fo2Xte/wFygBAbj3+zA4AkJvYAQBSEzsAQGo9JnZefPHFmDBhQpxyyilR\n",
              "W1sbL7zwwjvu9+Mf/zhGjBgRw4YNi4suuigOHDjQzZPm0561f/zxx+OMM86I0047Laqrq+OKK66I\n",
              "lpaWMkybR3v/zUdEFEURZ599dgwYMKD7BkysvWu/devWmDx5cowcOTJGjhwZ999/fzdPmkt71r2l\n",
              "pSUWLVoUp512WowZMyamTJkSO3bsKMO0eSxYsCCGDBkSpVIpGhoa3nW/sr6+Fj3ElClTip/85CdF\n",
              "URTFPffcU4wbN+6wfV566aWiqqqqeP3114uWlpbi/PPPL9asWdPNk+bTnrV//vnniz/+8Y9FURTF\n",
              "3r17i4kTJ7Yew5Fpz7r/yw033FDMmzev6N+/f/cMl1x71v4f//hHcfLJJxebNm0qiqIoDh48WPzl\n",
              "L3/pzjHTac+6//znPy/OOOOM4u233y6Koii+973vFRdccEF3jpnOk08+Wbz66qvF4MGDi82bN7/j\n",
              "PuV+fe0RsfPnP/+5OOaYY4oDBw4URVEULS0txSc+8YnixRdfbLPfddddV1xyySWt9x988MFi4sSJ\n",
              "3TprNu1d+//psssuK5YtW9YNE+bUkXXftm1bcdZZZxU7duwQO52gvWv/ox/9qPjyl79cjhFTau+6\n",
              "P/DAA8XYsWOL5ubmoqWlpfjWt75VfOMb3yjHyOm8V+yU+/W1R/wa69VXX42qqqqoqPjn556WSqUY\n",
              "NGhQ7Ny5s81+O3fujMGDB7feHzJkyGH70DHtXfv/9MYbb8S9994b5513XneNmU571/3AgQNx0UUX\n",
              "xS233OIDEjtJe9f+d7/7XVRWVsZ5550XNTU1MXv27HjzzTfLMXIK7V33888/PyZPnhzHH398VFVV\n",
              "xWOPPRbf/e53yzFyj1Lu19ceETt8cDQ3N8f5558fV1xxRYwbN67c46R3zTXXxOc///kYOXJkuUfp\n",
              "cQ4ePBiPPvpo3HLLLbF58+Y44YQT4utf/3q5x0rvueeei23btsWf/vSneO211+LTn/50zJ8/v9xj\n",
              "0cV6ROycdNJJ8frrr8fBgwcj4p8XY+7cuTMGDRrUZr9BgwbFK6+80nq/sbHxsH3omPaufUTEnj17\n",
              "YurUqTFjxoxYtGhRd4+aSnvX/cknn4zVq1fHkCFD4swzz4zm5uYYMmSIMwzvQ0f+v5kyZUqccMIJ\n",
              "USqV4sILL4zf/OY35Rg5hfau+7p161ovxu/Vq1fMmTMnnnjiiXKM3KOU+/W1R8TOcccdF6effnrc\n",
              "fvvtERFx3333xYknnhjDhw9vs98XvvCF2LBhQ7zxxhtRFEXU1dXFrFmzyjFyGu1d+7///e8xderU\n",
              "mDp1anz7298ux6iptHfdN23aFK+88ko0NjbGU089Ff369YvGxsY49thjyzF2Cu1d+y996UtRX18f\n",
              "zc3NERHx0EMPxdixY7t93izau+5Dhw6Nxx9/PN5+++2IiNi4cWOMGjWq2+ftacr++tptVweV2e9/\n",
              "//ti/PjxxYgRI4pPfepTxZYtW4qiKIqvfe1rxfr161v3u/XWW4uhQ4cWQ4cOLebOndt6xT5Hrj1r\n",
              "f+211xYVFRXF2LFjW2/XXnttOcf+wGvvv/l/efnll12g3Enau/br1q0rqquri9GjRxdTp04tdu7c\n",
              "Wa6RU2jPuu/bt6+YN29e8clPfrIYPXp0cc4557T+JShH5uKLLy5OOOGEonfv3sVxxx1XDBs2rCiK\n",
              "o+v11WdjAQCp9YhfYwEAPZfYAQBSEzsAQGpiBwBITewAAKmJHQAgNbEDAKQmdgCA1MQOAJCa2AEA\n",
              "UhM7AEBq/w8hOPvWe9WtmAAAAABJRU5ErkJggg==\n",
              "\">\n",
              "      </div>\n",
              "      <script type=\"text/javascript\">\n",
              "        (() => {\n",
              "          const chartElement = document.getElementById(\"chart-b19261a9-e751-4289-a283-8d4213d99295\");\n",
              "          async function getCodeForChartHandler(event) {\n",
              "            const chartCodeResponse =  await google.colab.kernel.invokeFunction(\n",
              "                'getCodeForChart', [\"chart-b19261a9-e751-4289-a283-8d4213d99295\"], {});\n",
              "            const responseJson = chartCodeResponse.data['application/json'];\n",
              "            await google.colab.notebook.addCell(responseJson.code, 'code');\n",
              "          }\n",
              "          chartElement.onclick = getCodeForChartHandler;\n",
              "        })();\n",
              "      </script>\n",
              "      <style>\n",
              "        .colab-quickchart-chart-with-code  {\n",
              "            display: block;\n",
              "            float: left;\n",
              "            border: 1px solid transparent;\n",
              "        }\n",
              "\n",
              "        .colab-quickchart-chart-with-code:hover {\n",
              "            cursor: pointer;\n",
              "            border: 1px solid #aaa;\n",
              "        }\n",
              "      </style>"
            ]
          },
          "metadata": {}
        }
      ]
    },
    {
      "cell_type": "markdown",
      "source": [
        "Exercício 2\n",
        "\n",
        "Crie um programa em Python que peça ao usuário para inserir o título e o autor de três livros. O programa deve armazenar essas informações em uma tupla para cada livro, e depois armazenar todas as tuplas em uma lista. Em seguida, o programa deve exibir a lista de livros com seus respectivos autores.\n",
        "\n",
        "Requisitos:\n",
        "- Solicite ao usuário que insira o título e o autor de três livros.\n",
        "- Armazene essas informações em uma tupla para cada livro.\n",
        "- Armazene todas as tuplas em uma lista.\n",
        "- Exiba a lista de livros com seus respectivos autores.\n",
        "\n",
        "![image.png](data:image/png;base64,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)"
      ],
      "metadata": {
        "id": "SIPzXH-ykRPK"
      }
    },
    {
      "cell_type": "code",
      "source": [
        "livros = []\n",
        "\n",
        "for i in range(3):\n",
        "  titulo = input(f'Digite o título do livro {i+1}: ')\n",
        "  autor = input(f'Digite o autor do livro {i+1}: ')\n",
        "  livro = (titulo, autor)\n",
        "  livros.append(livro)\n",
        "\n",
        "print('Lista de livros:')\n",
        "for livro in livros:\n",
        "  titulo, autor = livro\n",
        "  print(f'Título: {titulo}, Autor: {autor}')\n"
      ],
      "metadata": {
        "id": "42AhVm9lNypt",
        "colab": {
          "base_uri": "https://localhost:8080/"
        },
        "outputId": "ec2ad77f-f7b7-41e5-e011-2dc5db99fe0d"
      },
      "execution_count": null,
      "outputs": [
        {
          "output_type": "stream",
          "name": "stdout",
          "text": [
            "Digite o título do livro 1: O Poderoso Chefão\n",
            "Digite o autor do livro 1: Mario Puzo\n",
            "Digite o título do livro 2: Fora de Série\n",
            "Digite o autor do livro 2: Malcolm Gladwell\n",
            "Digite o título do livro 3: Em Nome de Roma\n",
            "Digite o autor do livro 3: Adrian G.\n",
            "\n",
            "Lista de livros:\n",
            "Título: O Poderoso Chefão, Autor: Mario Puzo\n",
            "Título: Fora de Série, Autor: Malcolm Gladwell\n",
            "Título: Em Nome de Roma, Autor: Adrian G.\n"
          ]
        }
      ]
    },
    {
      "cell_type": "markdown",
      "source": [
        "Exercício 3\n",
        "\n",
        "Crie um programa em Python que peça ao usuário para inserir o nome, a quantidade e o preço de três produtos. O programa deve armazenar essas informações em uma tupla para cada produto, e depois armazenar todas as tuplas em uma lista. Em seguida, o programa deve exibir a lista de produtos com suas quantidades e preços, calcular e exibir o valor total do estoque.\n",
        "Requisitos:\n",
        "- Solicite ao usuário que insira o nome, a quantidade e o preço de três produtos.\n",
        "- Armazene essas informações em uma tupla para cada produto.\n",
        "- Armazene todas as tuplas em uma lista.\n",
        "- Exiba a lista de produtos com suas quantidades e preços.\n",
        "- Calcule e exiba o valor total do estoque.\n",
        "\n",
        "![image.png](data:image/png;base64,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)"
      ],
      "metadata": {
        "id": "_tEwkxyTlGab"
      }
    },
    {
      "cell_type": "code",
      "source": [
        "produtos = []\n",
        "\n",
        "for i in range(3):\n",
        "  nome = input(f'Digite o nome do produto {i+1}: ')\n",
        "  quantidade = int(input(f'Digite a quantidade do produto {i+1}: '))\n",
        "  preco = float(input(f'Digite o preço do produto {i+1}: '))\n",
        "  produtos.append((nome, quantidade, preco))\n",
        "\n",
        "print('Lista de produtos:')\n",
        "for produto in produtos:\n",
        "  print(f'{produto[0]}: {produto[1]} unidades, R${produto[2]:.2f}')\n",
        "\n",
        "valor_total = sum(produto[1] * produto[2] for produto in produtos)\n",
        "print(f'Valor total do estoque: R${valor_total:.2f}')\n"
      ],
      "metadata": {
        "colab": {
          "base_uri": "https://localhost:8080/"
        },
        "id": "AL2N6-8F1OsD",
        "outputId": "6b2c9452-47ba-4ec0-e1b6-227dba3db081"
      },
      "execution_count": null,
      "outputs": [
        {
          "output_type": "stream",
          "name": "stdout",
          "text": [
            "Digite o nome do produto 1: Bola\n",
            "Digite a quantidade do produto 1: 100\n",
            "Digite o preço do produto 1: 50\n",
            "Digite o nome do produto 2: Gol\n",
            "Digite a quantidade do produto 2: 50\n",
            "Digite o preço do produto 2: 500\n",
            "Digite o nome do produto 3: Chocolate\n",
            "Digite a quantidade do produto 3: 200\n",
            "Digite o preço do produto 3: 8\n",
            "Lista de produtos:\n",
            "- Bola: 100 unidades, R$50.00\n",
            "- Gol: 50 unidades, R$500.00\n",
            "- Chocolate: 200 unidades, R$8.00\n",
            "Valor total do estoque: R$31600.00\n"
          ]
        }
      ]
    },
    {
      "cell_type": "markdown",
      "source": [
        "Exercício 4\n",
        "\n",
        "Crie um dicionário para armazenar informações sobre estudantes. Cada estudante deve ter um nome, idade e uma lista de notas. Após criar o dicionário, exiba as informações de um dos estudantes.\n",
        "\n",
        "- Crie um dicionário chamado estudantes.\n",
        "- Adicione três estudantes ao dicionário, cada um com seu nome, idade e uma lista de três notas.\n",
        "- Exiba as informações de um dos estudantes.\n",
        "\n",
        "![image.png](data:image/png;base64,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)"
      ],
      "metadata": {
        "id": "irZstpPpyBUJ"
      }
    },
    {
      "cell_type": "code",
      "source": [
        "estudantes = {\n",
        "    'estudantes1': {\n",
        "        'nome': 'João',\n",
        "        'idade': 18,\n",
        "        'notas': [8.5, 9.0, 7.5]\n",
        "    },\n",
        "    'estudantes2': {\n",
        "        'nome': 'Maria',\n",
        "        'idade': 19,\n",
        "        'notas': [9.0, 8.5, 9.5]\n",
        "    },\n",
        "    'estudantes3': {\n",
        "        'nome': 'Pedro',\n",
        "        'idade': 20,\n",
        "        'notas': [7.0, 8.0, 9.0]\n",
        "    }\n",
        "}\n",
        "\n",
        "nome_estudante = input('Digite o nome do estudante: ')\n",
        "\n",
        "if nome_estudante in estudantes:\n",
        "  print(estudantes[nome_estudante])\n",
        "else:\n",
        "  print('Estudante não encontrado.')\n"
      ],
      "metadata": {
        "colab": {
          "base_uri": "https://localhost:8080/"
        },
        "id": "1iXX-HZFRrYv",
        "outputId": "513f932a-3c25-4af1-fb33-41288254b8c7"
      },
      "execution_count": null,
      "outputs": [
        {
          "output_type": "stream",
          "name": "stdout",
          "text": [
            "Digite o nome do estudante: estudantes1\n",
            "{'nome': 'João', 'idade': 18, 'notas': [8.5, 9.0, 7.5]}\n"
          ]
        }
      ]
    },
    {
      "cell_type": "markdown",
      "source": [
        "Exercício 5\n",
        "\n",
        "Crie um programa para gerenciar o estoque de produtos de uma loja. O programa deve:\n",
        "\n",
        "- Adicionar novos produtos ao estoque com dados fornecidos pelo usuário.\n",
        "- Exibir as informações de todos os produtos.\n",
        "\n",
        "Passos:\n",
        "\n",
        "- Crie um dicionário chamado estoque com três produtos iniciais.\n",
        "- Solicite ao usuário que insira os dados de um novo produto.\n",
        "- Exiba as informações de todos os produtos diretamente do dicionário.\n",
        "\n",
        "![image.png](data:image/png;base64,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)"
      ],
      "metadata": {
        "id": "VPqbuX7-yT-R"
      }
    },
    {
      "cell_type": "code",
      "source": [
        "import pandas as pd\n",
        "\n",
        "estoque = {\n",
        "  'produto1': {'nome': 'Camiseta', 'preco': 29, 'quantidade': 50},\n",
        "  'produto2': {'nome': 'Calça', 'preco': 79, 'quantidade': 20},\n",
        "  'produto3': {'nome': 'Sapato', 'preco': 129, 'quantidade': 15},\n",
        "}\n",
        "\n",
        "nome = input('Digite o nome do produto: ')\n",
        "preco = float(input('Digite o preço do produto: '))\n",
        "quantidade = int(input('Digite a quantidade do produto: '))\n",
        "\n",
        "novo_produto = {'nome': nome, 'preco': preco, 'quantidade': quantidade}\n",
        "estoque[f'produto{len(estoque) + 1}'] = novo_produto\n",
        "print(estoque)"
      ],
      "metadata": {
        "colab": {
          "base_uri": "https://localhost:8080/"
        },
        "id": "kvFE0YknBdV4",
        "outputId": "28eaa769-d64b-4998-b47a-7171c442da3e"
      },
      "execution_count": null,
      "outputs": [
        {
          "output_type": "stream",
          "name": "stdout",
          "text": [
            "Digite o nome do produto: o\n",
            "Digite o preço do produto: 9\n",
            "Digite a quantidade do produto: 8\n",
            "{'produto1': {'nome': 'Camiseta', 'preco': 29, 'quantidade': 50}, 'produto2': {'nome': 'Calça', 'preco': 79, 'quantidade': 20}, 'produto3': {'nome': 'Sapato', 'preco': 129, 'quantidade': 15}, 'produto4': {'nome': 'o', 'preco': 9.0, 'quantidade': 8}}\n"
          ]
        }
      ]
    }
  ]
}